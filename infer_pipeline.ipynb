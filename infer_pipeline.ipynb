{
 "cells": [
  {
   "cell_type": "code",
   "execution_count": 1,
   "metadata": {},
   "outputs": [
    {
     "name": "stderr",
     "output_type": "stream",
     "text": [
      "/media/work/WorkSpace/NER-System/.env/lib/python3.9/site-packages/tqdm/auto.py:22: TqdmWarning: IProgress not found. Please update jupyter and ipywidgets. See https://ipywidgets.readthedocs.io/en/stable/user_install.html\n",
      "  from .autonotebook import tqdm as notebook_tqdm\n"
     ]
    }
   ],
   "source": [
    "from transformers import pipeline"
   ]
  },
  {
   "cell_type": "code",
   "execution_count": 5,
   "metadata": {},
   "outputs": [],
   "source": [
    "ner_pipeline = pipeline(\n",
    "    'token-classification', \n",
    "    model=r'djagatiya/ner-roberta-base-ontonotesv5-englishv4',\n",
    "    aggregation_strategy='simple'\n",
    ")"
   ]
  },
  {
   "cell_type": "code",
   "execution_count": 6,
   "metadata": {},
   "outputs": [
    {
     "data": {
      "text/plain": [
       "[{'entity_group': 'GPE',\n",
       "  'score': 0.99186057,\n",
       "  'word': ' India',\n",
       "  'start': 0,\n",
       "  'end': 5}]"
      ]
     },
     "execution_count": 6,
     "metadata": {},
     "output_type": "execute_result"
    }
   ],
   "source": [
    "ner_pipeline(\"India is a beautiful country\")"
   ]
  },
  {
   "cell_type": "code",
   "execution_count": 7,
   "metadata": {},
   "outputs": [
    {
     "data": {
      "text/plain": [
       "[{'entity_group': 'DATE',\n",
       "  'score': 0.99720246,\n",
       "  'word': ' September 1st',\n",
       "  'start': 3,\n",
       "  'end': 16},\n",
       " {'entity_group': 'PERSON',\n",
       "  'score': 0.99071586,\n",
       "  'word': ' George',\n",
       "  'start': 17,\n",
       "  'end': 23},\n",
       " {'entity_group': 'MONEY',\n",
       "  'score': 0.9872978,\n",
       "  'word': ' 1 dollar',\n",
       "  'start': 28,\n",
       "  'end': 36},\n",
       " {'entity_group': 'WORK_OF_ART',\n",
       "  'score': 0.9946732,\n",
       "  'word': ' Game of Thrones',\n",
       "  'start': 52,\n",
       "  'end': 67}]"
      ]
     },
     "execution_count": 7,
     "metadata": {},
     "output_type": "execute_result"
    }
   ],
   "source": [
    "ner_pipeline(\"On September 1st George won 1 dollar while watching Game of Thrones.\")"
   ]
  },
  {
   "cell_type": "code",
   "execution_count": null,
   "metadata": {},
   "outputs": [],
   "source": []
  }
 ],
 "metadata": {
  "kernelspec": {
   "display_name": "Python 3.9.13 ('.env': venv)",
   "language": "python",
   "name": "python3"
  },
  "language_info": {
   "codemirror_mode": {
    "name": "ipython",
    "version": 3
   },
   "file_extension": ".py",
   "mimetype": "text/x-python",
   "name": "python",
   "nbconvert_exporter": "python",
   "pygments_lexer": "ipython3",
   "version": "3.9.13"
  },
  "orig_nbformat": 4,
  "vscode": {
   "interpreter": {
    "hash": "d5800174451b6c921a9c13490ae1c574818e6a5b8317dfb8488dd0d60cccd29a"
   }
  }
 },
 "nbformat": 4,
 "nbformat_minor": 2
}
