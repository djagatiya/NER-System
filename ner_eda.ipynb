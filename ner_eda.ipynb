{
 "cells": [
  {
   "cell_type": "markdown",
   "metadata": {},
   "source": [
    "# EDA on OntoNotes v5 NER dataset"
   ]
  },
  {
   "cell_type": "markdown",
   "metadata": {},
   "source": [
    "![Python](https://img.shields.io/static/v1?label=Python&message=3.9&color=red&style=flat)\n",
    "![Pandas](https://img.shields.io/static/v1?label=Pandas&message=1.4&color=blue&style=flat)\n",
    "![Matplotlib](https://img.shields.io/static/v1?label=Matplotlib&message=3.5&color=green&style=flat)"
   ]
  },
  {
   "cell_type": "markdown",
   "metadata": {},
   "source": [
    "In first step we will be importing required libraries for loading data and to do dataset ploting."
   ]
  },
  {
   "cell_type": "code",
   "execution_count": 82,
   "metadata": {},
   "outputs": [],
   "source": [
    "import numpy as np\n",
    "\n",
    "import pandas as pd\n",
    "\n",
    "import matplotlib\n",
    "import matplotlib.pyplot as plt\n",
    "# To check the list of styles are available for use -> plt.style.available\n",
    "plt.style.use('seaborn')\n",
    "\n",
    "import seaborn as sns\n",
    "\n",
    "\n",
    "import itertools"
   ]
  },
  {
   "cell_type": "code",
   "execution_count": 84,
   "metadata": {},
   "outputs": [
    {
     "data": {
      "text/plain": [
       "('3.5.2', '1.4.2')"
      ]
     },
     "execution_count": 84,
     "metadata": {},
     "output_type": "execute_result"
    }
   ],
   "source": [
    "matplotlib.__version__, pd.__version__"
   ]
  },
  {
   "cell_type": "code",
   "execution_count": 2,
   "metadata": {},
   "outputs": [],
   "source": [
    "def format_data(lines):\n",
    "    word_ls, tag_ls = [], []\n",
    "    for _l in lines:\n",
    "        _word, _tag = _l.strip().split(\"\\t\")\n",
    "        word_ls.append(_word)\n",
    "        tag_ls.append(_tag)\n",
    "    return word_ls, tag_ls\n",
    "\n",
    "def load_data(path):\n",
    "    with open(path, 'r') as _file:\n",
    "        all_data = []\n",
    "        for i, (x, y) in enumerate(itertools.groupby(_file, lambda x : x == '\\n')):\n",
    "            if x: continue\n",
    "            y = format_data(y)\n",
    "            all_data.append(y)\n",
    "        df = pd.DataFrame(all_data, columns=[\"words\", \"tags\"])\n",
    "        return df "
   ]
  },
  {
   "cell_type": "code",
   "execution_count": 3,
   "metadata": {},
   "outputs": [],
   "source": [
    "train_df = load_data('data/ontonotes/train.conll')\n",
    "test_df = load_data('data/ontonotes/test.conll')"
   ]
  },
  {
   "cell_type": "code",
   "execution_count": 4,
   "metadata": {},
   "outputs": [
    {
     "data": {
      "text/plain": [
       "((75187, 2), (9479, 2))"
      ]
     },
     "execution_count": 4,
     "metadata": {},
     "output_type": "execute_result"
    }
   ],
   "source": [
    "train_df.shape, test_df.shape"
   ]
  },
  {
   "cell_type": "code",
   "execution_count": 5,
   "metadata": {},
   "outputs": [
    {
     "data": {
      "text/html": [
       "<div>\n",
       "<style scoped>\n",
       "    .dataframe tbody tr th:only-of-type {\n",
       "        vertical-align: middle;\n",
       "    }\n",
       "\n",
       "    .dataframe tbody tr th {\n",
       "        vertical-align: top;\n",
       "    }\n",
       "\n",
       "    .dataframe thead th {\n",
       "        text-align: right;\n",
       "    }\n",
       "</style>\n",
       "<table border=\"1\" class=\"dataframe\">\n",
       "  <thead>\n",
       "    <tr style=\"text-align: right;\">\n",
       "      <th></th>\n",
       "      <th>words</th>\n",
       "      <th>tags</th>\n",
       "    </tr>\n",
       "  </thead>\n",
       "  <tbody>\n",
       "    <tr>\n",
       "      <th>0</th>\n",
       "      <td>[What, kind, of, memory, ?]</td>\n",
       "      <td>[O, O, O, O, O]</td>\n",
       "    </tr>\n",
       "    <tr>\n",
       "      <th>1</th>\n",
       "      <td>[We, respectfully, invite, you, to, watch, a, ...</td>\n",
       "      <td>[O, O, O, O, O, O, O, O, O, O, B-ORG, I-ORG, O]</td>\n",
       "    </tr>\n",
       "    <tr>\n",
       "      <th>2</th>\n",
       "      <td>[WW, II, Landmarks, on, the, Great, Earth, of,...</td>\n",
       "      <td>[B-WORK_OF_ART, I-WORK_OF_ART, I-WORK_OF_ART, ...</td>\n",
       "    </tr>\n",
       "    <tr>\n",
       "      <th>3</th>\n",
       "      <td>[Standing, tall, on, Taihang, Mountain, is, th...</td>\n",
       "      <td>[O, O, O, B-LOC, I-LOC, O, B-WORK_OF_ART, I-WO...</td>\n",
       "    </tr>\n",
       "    <tr>\n",
       "      <th>4</th>\n",
       "      <td>[It, is, composed, of, a, primary, stele, ,, s...</td>\n",
       "      <td>[O, O, O, O, O, O, O, O, O, O, O, O, O, O, O, ...</td>\n",
       "    </tr>\n",
       "  </tbody>\n",
       "</table>\n",
       "</div>"
      ],
      "text/plain": [
       "                                               words  \\\n",
       "0                        [What, kind, of, memory, ?]   \n",
       "1  [We, respectfully, invite, you, to, watch, a, ...   \n",
       "2  [WW, II, Landmarks, on, the, Great, Earth, of,...   \n",
       "3  [Standing, tall, on, Taihang, Mountain, is, th...   \n",
       "4  [It, is, composed, of, a, primary, stele, ,, s...   \n",
       "\n",
       "                                                tags  \n",
       "0                                    [O, O, O, O, O]  \n",
       "1    [O, O, O, O, O, O, O, O, O, O, B-ORG, I-ORG, O]  \n",
       "2  [B-WORK_OF_ART, I-WORK_OF_ART, I-WORK_OF_ART, ...  \n",
       "3  [O, O, O, B-LOC, I-LOC, O, B-WORK_OF_ART, I-WO...  \n",
       "4  [O, O, O, O, O, O, O, O, O, O, O, O, O, O, O, ...  "
      ]
     },
     "execution_count": 5,
     "metadata": {},
     "output_type": "execute_result"
    }
   ],
   "source": [
    "train_df.head()"
   ]
  },
  {
   "cell_type": "markdown",
   "metadata": {},
   "source": [
    "#### Length of the sentences"
   ]
  },
  {
   "cell_type": "markdown",
   "metadata": {},
   "source": [
    "To calculate total number of word in single sentence and stores in same dataframe into `total_words` column."
   ]
  },
  {
   "cell_type": "code",
   "execution_count": 6,
   "metadata": {},
   "outputs": [],
   "source": [
    "train_df['total_words'] = train_df.words.map(lambda x : len(x))"
   ]
  },
  {
   "cell_type": "markdown",
   "metadata": {},
   "source": [
    "In whole dataset we have on an average `17 words` in single sentence.\n",
    "\n",
    "Here we also have one word in some sentences as well."
   ]
  },
  {
   "cell_type": "code",
   "execution_count": 36,
   "metadata": {},
   "outputs": [
    {
     "data": {
      "text/plain": [
       "(17.281072525835583, 14.0, 210, 1)"
      ]
     },
     "execution_count": 36,
     "metadata": {},
     "output_type": "execute_result"
    }
   ],
   "source": [
    "total_word_mean = np.mean(train_df.total_words)\n",
    "total_word_median = np.median(train_df.total_words)\n",
    "total_word_mean, total_word_median, np.max(train_df.total_words), np.min(train_df.total_words)"
   ]
  },
  {
   "cell_type": "code",
   "execution_count": 53,
   "metadata": {},
   "outputs": [
    {
     "data": {
      "image/png": "[encoded data removed]",
      "text/plain": [
       "<Figure size 576x396 with 1 Axes>"
      ]
     },
     "metadata": {},
     "output_type": "display_data"
    }
   ],
   "source": [
    "ax = sns.histplot(train_df.total_words, binwidth=2)\n",
    "ax.axvline(total_word_mean, color='red', label=f'Mean {total_word_mean:.2f}')\n",
    "ax.axvline(total_word_median, color='blue', label=f'Median {total_word_median:.2f}')\n",
    "plt.legend()\n",
    "plt.show()"
   ]
  },
  {
   "cell_type": "markdown",
   "metadata": {},
   "source": [
    "`97%` of the training data has length of sentence below `50 words`."
   ]
  },
  {
   "cell_type": "code",
   "execution_count": 19,
   "metadata": {},
   "outputs": [
    {
     "data": {
      "text/plain": [
       "0.9770705042095043"
      ]
     },
     "execution_count": 19,
     "metadata": {},
     "output_type": "execute_result"
    }
   ],
   "source": [
    "sum(train_df.total_words < 50) / len(train_df)"
   ]
  },
  {
   "cell_type": "markdown",
   "metadata": {},
   "source": [
    "#### NER Tags"
   ]
  },
  {
   "cell_type": "code",
   "execution_count": 55,
   "metadata": {},
   "outputs": [],
   "source": [
    "from collections import Counter"
   ]
  },
  {
   "cell_type": "code",
   "execution_count": 79,
   "metadata": {},
   "outputs": [
    {
     "data": {
      "text/plain": [
       "(array(['B-CARDINAL', 'B-DATE', 'B-EVENT', 'B-FAC', 'B-GPE', 'B-LANGUAGE',\n",
       "        'B-LAW', 'B-LOC', 'B-MONEY', 'B-NORP', 'B-ORDINAL', 'B-ORG',\n",
       "        'B-PERCENT', 'B-PERSON', 'B-PRODUCT', 'B-QUANTITY', 'B-TIME',\n",
       "        'B-WORK_OF_ART', 'I-CARDINAL', 'I-DATE', 'I-EVENT', 'I-FAC',\n",
       "        'I-GPE', 'I-LANGUAGE', 'I-LAW', 'I-LOC', 'I-MONEY', 'I-NORP',\n",
       "        'I-ORDINAL', 'I-ORG', 'I-PERCENT', 'I-PERSON', 'I-PRODUCT',\n",
       "        'I-QUANTITY', 'I-TIME', 'I-WORK_OF_ART', 'O'], dtype='<U13'),\n",
       " array([   7367,   10922,     748,     860,   15405,     304,     282,\n",
       "           1514,    2434,    6870,    1640,   12820,    1763,   15429,\n",
       "            606,     657,    1233,     974,    2289,   13333,    1605,\n",
       "           1467,    3679,      13,     785,    1395,    4920,     446,\n",
       "              5,   18246,    2498,   11147,     576,    1235,    1507,\n",
       "           2400, 1149938]))"
      ]
     },
     "execution_count": 79,
     "metadata": {},
     "output_type": "execute_result"
    }
   ],
   "source": [
    "np.unique(np.hstack(train_df.tags.values), return_counts=True)"
   ]
  }
 ],
 "metadata": {
  "kernelspec": {
   "display_name": "Python 3.9.13 ('.env': venv)",
   "language": "python",
   "name": "python3"
  },
  "language_info": {
   "codemirror_mode": {
    "name": "ipython",
    "version": 3
   },
   "file_extension": ".py",
   "mimetype": "text/x-python",
   "name": "python",
   "nbconvert_exporter": "python",
   "pygments_lexer": "ipython3",
   "version": "3.9.13"
  },
  "orig_nbformat": 4,
  "vscode": {
   "interpreter": {
    "hash": "d5800174451b6c921a9c13490ae1c574818e6a5b8317dfb8488dd0d60cccd29a"
   }
  }
 },
 "nbformat": 4,
 "nbformat_minor": 2
}
